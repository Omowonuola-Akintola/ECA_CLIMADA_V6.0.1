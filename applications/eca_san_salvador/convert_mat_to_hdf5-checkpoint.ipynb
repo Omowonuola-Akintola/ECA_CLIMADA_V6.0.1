{
 "cells": [
  {
   "cell_type": "code",
   "execution_count": 43,
   "id": "4e75e635-ccbb-4068-8e9e-0956a468ae7b",
   "metadata": {},
   "outputs": [],
   "source": [
    "from climada.util.hdf5_handler import get_sparse_csr_mat\n",
    "from climada.hazard.centroids import Centroids\n",
    "from climada.hazard import Hazard\n",
    "import numpy as np\n",
    "\n",
    "def convert_mat_to_hdf5(mat_file, hdf5_file):\n",
    "    with h5py.File(mat_file, 'r') as f:\n",
    "    \n",
    "        #define the vars_oblig [units, \"units\",\"centroids\", \"event_id\", \"frequency\", \"intensity\", \"fraction\", } based on the Hazard class in climada\n",
    "\n",
    "        #extract units \n",
    "        unit_value = f['hazard/units'][()]\n",
    "        units = chr(int(unit_value.item()))\n",
    "    \n",
    "        # extract centroids (lat/lon)\n",
    "        lats = f['hazard/lat'][()].flatten()\n",
    "        lons = f['hazard/lon'][()].flatten()\n",
    "        centroids = Centroids(lat=lats, lon=lons)\n",
    "\n",
    "        #extract event_id\n",
    "        event_id = f['hazard/event_ID'][()].flatten() if 'hazard/event_ID' in f else None\n",
    "        if event_id is not None:\n",
    "            if event_id.size == 1:\n",
    "                event_id = int(event_id[0])\n",
    "            else:\n",
    "                event_id = event_id.astype(int)\n",
    "\n",
    "        #extract frequency\n",
    "        frequency = f['hazard/frequency'][()].flatten() if 'hazard/frequency' in f else None\n",
    "\n",
    "        # extract intensity\n",
    "        intensity_dict = {\n",
    "        'data': f['hazard/intensity/data'][()],\n",
    "        'ir': f['hazard/intensity/ir'][()],\n",
    "        'jc': f['hazard/intensity/jc'][()]\n",
    "        }\n",
    "\n",
    "        shape_intensity = (len(event_id), len(lats))  # e.g. (n_centroids, n_events)\n",
    "\n",
    "        intensity_csr = get_sparse_csr_mat(intensity_dict, shape_intensity)\n",
    "\n",
    "        # extract fraction\n",
    "        fraction_dict = {\n",
    "        'data': f['hazard/fraction/data'][()],\n",
    "        'ir': f['hazard/fraction/ir'][()],\n",
    "        'jc': f['hazard/fraction/jc'][()]\n",
    "        }\n",
    "        shape_fraction = (len(event_id), len(lats))  # e.g. (n_centroids, n_events)\n",
    "\n",
    "        fraction_csr = get_sparse_csr_mat(fraction_dict, shape_fraction)\n",
    "\n",
    "        # define var_def {\"date\", \"orig\", \"event_name\",  \"frequency_unit\"} \n",
    "\n",
    "        #extract date\n",
    "        datenum = f['hazard/datenum'][()].flatten()\n",
    "        datenum_int = datenum.astype(int)\n",
    "        date = date = np.insert(datenum_int[:-1], 0, 1)\n",
    "\n",
    "        #extract event_name \n",
    "        name = f['hazard/name']\n",
    "        event_name= []\n",
    "\n",
    "        for i in range(name.shape[0]):\n",
    "            ref_array = name[i]\n",
    "            ref = ref_array[0]\n",
    "            obj = f.file[ref]\n",
    "            ascii_data = obj[()]\n",
    "            s = ''.join(\n",
    "                chr(int(x.item() if isinstance(x, np.ndarray) else x))\n",
    "                for x in ascii_data\n",
    "            )\n",
    "            event_name.append(s)\n",
    "            \n",
    "          # build hazard\n",
    "            haz = Hazard(\n",
    "                haz_type='FL',\n",
    "                centroids=centroids,\n",
    "                event_id=event_id,\n",
    "                event_name=event_name,\n",
    "                intensity=intensity_csr,\n",
    "                fraction=fraction_csr,\n",
    "                frequency=frequency,\n",
    "                units=units,\n",
    "                date=date,\n",
    "            )\n",
    "\n",
    "            # save to HDF5\n",
    "            haz.write_hdf5(hdf5_file)\n",
    "       "
   ]
  },
  {
   "cell_type": "code",
   "execution_count": 44,
   "id": "7a551b64-c3d3-4a9b-9473-11d13e136411",
   "metadata": {},
   "outputs": [
    {
     "name": "stdout",
     "output_type": "stream",
     "text": [
      "2025-07-06 16:43:13,117 - climada.hazard.io - INFO - Writing Salvador_hazard_FL_2015_.hdf5\n",
      "2025-07-06 16:43:13,121 - climada.hazard.centroids.centr - INFO - Writing Salvador_hazard_FL_2015_.hdf5\n",
      "2025-07-06 16:43:13,759 - climada.hazard.io - INFO - Writing Salvador_hazard_FL_2015_.hdf5\n",
      "2025-07-06 16:43:13,763 - climada.hazard.centroids.centr - INFO - Writing Salvador_hazard_FL_2015_.hdf5\n",
      "2025-07-06 16:43:14,419 - climada.hazard.io - INFO - Writing Salvador_hazard_FL_2015_.hdf5\n",
      "2025-07-06 16:43:14,423 - climada.hazard.centroids.centr - INFO - Writing Salvador_hazard_FL_2015_.hdf5\n",
      "2025-07-06 16:43:15,079 - climada.hazard.io - INFO - Writing Salvador_hazard_FL_2015_.hdf5\n",
      "2025-07-06 16:43:15,082 - climada.hazard.centroids.centr - INFO - Writing Salvador_hazard_FL_2015_.hdf5\n",
      "2025-07-06 16:43:15,722 - climada.hazard.io - INFO - Writing Salvador_hazard_FL_2015_.hdf5\n",
      "2025-07-06 16:43:15,726 - climada.hazard.centroids.centr - INFO - Writing Salvador_hazard_FL_2015_.hdf5\n",
      "2025-07-06 16:43:16,363 - climada.hazard.io - INFO - Writing Salvador_hazard_FL_2015_.hdf5\n",
      "2025-07-06 16:43:16,367 - climada.hazard.centroids.centr - INFO - Writing Salvador_hazard_FL_2015_.hdf5\n"
     ]
    }
   ],
   "source": [
    "convert_mat_to_hdf5(\"Salvador_hazard_FL_2015.mat\", \"Salvador_hazard_FL_2015.hdf5\")"
   ]
  },
  {
   "cell_type": "code",
   "execution_count": 45,
   "id": "98d43f2f-e4a6-4635-92fb-79f5315f9cbc",
   "metadata": {},
   "outputs": [
    {
     "name": "stdout",
     "output_type": "stream",
     "text": [
      "2025-07-06 16:43:18,617 - climada.hazard.io - INFO - Writing Salvador_hazard_FL_2040_extreme_cc_.hdf5\n",
      "2025-07-06 16:43:18,621 - climada.hazard.centroids.centr - INFO - Writing Salvador_hazard_FL_2040_extreme_cc_.hdf5\n",
      "2025-07-06 16:43:19,267 - climada.hazard.io - INFO - Writing Salvador_hazard_FL_2040_extreme_cc_.hdf5\n",
      "2025-07-06 16:43:19,271 - climada.hazard.centroids.centr - INFO - Writing Salvador_hazard_FL_2040_extreme_cc_.hdf5\n",
      "2025-07-06 16:43:19,918 - climada.hazard.io - INFO - Writing Salvador_hazard_FL_2040_extreme_cc_.hdf5\n",
      "2025-07-06 16:43:19,922 - climada.hazard.centroids.centr - INFO - Writing Salvador_hazard_FL_2040_extreme_cc_.hdf5\n",
      "2025-07-06 16:43:20,565 - climada.hazard.io - INFO - Writing Salvador_hazard_FL_2040_extreme_cc_.hdf5\n",
      "2025-07-06 16:43:20,569 - climada.hazard.centroids.centr - INFO - Writing Salvador_hazard_FL_2040_extreme_cc_.hdf5\n",
      "2025-07-06 16:43:21,212 - climada.hazard.io - INFO - Writing Salvador_hazard_FL_2040_extreme_cc_.hdf5\n",
      "2025-07-06 16:43:21,216 - climada.hazard.centroids.centr - INFO - Writing Salvador_hazard_FL_2040_extreme_cc_.hdf5\n",
      "2025-07-06 16:43:21,878 - climada.hazard.io - INFO - Writing Salvador_hazard_FL_2040_extreme_cc_.hdf5\n",
      "2025-07-06 16:43:21,883 - climada.hazard.centroids.centr - INFO - Writing Salvador_hazard_FL_2040_extreme_cc_.hdf5\n"
     ]
    }
   ],
   "source": [
    "convert_mat_to_hdf5(\"Salvador_hazard_FL_2040_extreme_cc.mat\", \"Salvador_hazard_FL_2040_extreme_cc.hdf5\")"
   ]
  },
  {
   "cell_type": "code",
   "execution_count": null,
   "id": "f8c0746a-cc28-48f9-b77f-77e663e463f9",
   "metadata": {},
   "outputs": [],
   "source": []
  }
 ],
 "metadata": {
  "kernelspec": {
   "display_name": "Python 3 (ipykernel)",
   "language": "python",
   "name": "python3"
  },
  "language_info": {
   "codemirror_mode": {
    "name": "ipython",
    "version": 3
   },
   "file_extension": ".py",
   "mimetype": "text/x-python",
   "name": "python",
   "nbconvert_exporter": "python",
   "pygments_lexer": "ipython3",
   "version": "3.11.11"
  }
 },
 "nbformat": 4,
 "nbformat_minor": 5
}
