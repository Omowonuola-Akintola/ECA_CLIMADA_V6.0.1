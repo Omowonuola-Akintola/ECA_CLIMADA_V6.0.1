{
 "cells": [
  {
   "cell_type": "code",
   "execution_count": 3,
   "id": "4e75e635-ccbb-4068-8e9e-0956a468ae7b",
   "metadata": {},
   "outputs": [],
   "source": [
    "from climada.util.hdf5_handler import get_sparse_csr_mat\n",
    "from climada.hazard.centroids import Centroids\n",
    "from climada.hazard import Hazard\n",
    "import numpy as np\n",
    "import h5py\n",
    "\n",
    "def convert_mat_to_hdf5(mat_file, hdf5_file):\n",
    "    with h5py.File(mat_file, 'r') as f:\n",
    "    \n",
    "        #define the vars_oblig [units, \"units\",\"centroids\", \"event_id\", \"frequency\", \"intensity\", \"fraction\", } based on the Hazard class in climada\n",
    "\n",
    "        #extract units \n",
    "        unit_value = f['hazard/units'][()]\n",
    "        units = chr(int(unit_value.item()))\n",
    "    \n",
    "        # extract centroids (lat/lon)\n",
    "        lats = f['hazard/lat'][()].flatten()\n",
    "        lons = f['hazard/lon'][()].flatten()\n",
    "        centroids = Centroids(lat=lats, lon=lons)\n",
    "\n",
    "        #extract event_id\n",
    "        event_id = f['hazard/event_ID'][()].flatten() if 'hazard/event_ID' in f else None\n",
    "        if event_id is not None:\n",
    "            if event_id.size == 1:\n",
    "                event_id = int(event_id[0])\n",
    "            else:\n",
    "                event_id = event_id.astype(int)\n",
    "\n",
    "        #extract frequency\n",
    "        frequency = f['hazard/frequency'][()].flatten() if 'hazard/frequency' in f else None\n",
    "\n",
    "        # extract intensity\n",
    "        intensity_dict = {\n",
    "        'data': f['hazard/intensity/data'][()],\n",
    "        'ir': f['hazard/intensity/ir'][()],\n",
    "        'jc': f['hazard/intensity/jc'][()]\n",
    "        }\n",
    "\n",
    "        shape_intensity = (len(event_id), len(lats))  # e.g. (n_centroids, n_events)\n",
    "\n",
    "        intensity_csr = get_sparse_csr_mat(intensity_dict, shape_intensity)\n",
    "\n",
    "        # extract fraction\n",
    "        fraction_dict = {\n",
    "        'data': f['hazard/fraction/data'][()],\n",
    "        'ir': f['hazard/fraction/ir'][()],\n",
    "        'jc': f['hazard/fraction/jc'][()]\n",
    "        }\n",
    "        shape_fraction = (len(event_id), len(lats))  # e.g. (n_centroids, n_events)\n",
    "\n",
    "        fraction_csr = get_sparse_csr_mat(fraction_dict, shape_fraction)\n",
    "\n",
    "        # define var_def {\"date\", \"orig\", \"event_name\",  \"frequency_unit\"} \n",
    "\n",
    "        #extract date\n",
    "        datenum = f['hazard/datenum'][()].flatten()\n",
    "        datenum_int = datenum.astype(int)\n",
    "        date = date = np.insert(datenum_int[:-1], 0, 1)\n",
    "\n",
    "        #extract event_name \n",
    "        name = f['hazard/name']\n",
    "        event_name= []\n",
    "\n",
    "        for i in range(name.shape[0]):\n",
    "            ref_array = name[i]\n",
    "            ref = ref_array[0]\n",
    "            obj = f.file[ref]\n",
    "            ascii_data = obj[()]\n",
    "            s = ''.join(\n",
    "                chr(int(x.item() if isinstance(x, np.ndarray) else x))\n",
    "                for x in ascii_data\n",
    "            )\n",
    "            event_name.append(s)\n",
    "            \n",
    "          # build hazard\n",
    "            haz = Hazard(\n",
    "                haz_type='FL',\n",
    "                centroids=centroids,\n",
    "                event_id=event_id,\n",
    "                event_name=event_name,\n",
    "                intensity=intensity_csr,\n",
    "                fraction=fraction_csr,\n",
    "                frequency=frequency,\n",
    "                units=units,\n",
    "                date=date,\n",
    "            )\n",
    "\n",
    "            # save to HDF5\n",
    "            haz.write_hdf5(hdf5_file)\n",
    "       "
   ]
  },
  {
   "cell_type": "code",
   "execution_count": 7,
   "id": "7a551b64-c3d3-4a9b-9473-11d13e136411",
   "metadata": {},
   "outputs": [
    {
     "ename": "FileNotFoundError",
     "evalue": "[Errno 2] Unable to synchronously open file (unable to open file: name = 'applications/eca_san_salvador/Salvador_hazard_FL_2015.mat', errno = 2, error message = 'No such file or directory', flags = 0, o_flags = 0)",
     "output_type": "error",
     "traceback": [
      "\u001b[31m---------------------------------------------------------------------------\u001b[39m",
      "\u001b[31mFileNotFoundError\u001b[39m                         Traceback (most recent call last)",
      "\u001b[36mCell\u001b[39m\u001b[36m \u001b[39m\u001b[32mIn[7]\u001b[39m\u001b[32m, line 1\u001b[39m\n\u001b[32m----> \u001b[39m\u001b[32m1\u001b[39m \u001b[43mconvert_mat_to_hdf5\u001b[49m\u001b[43m(\u001b[49m\u001b[33;43m\"\u001b[39;49m\u001b[33;43mapplications/eca_san_salvador/Salvador_hazard_FL_2015.mat\u001b[39;49m\u001b[33;43m\"\u001b[39;49m\u001b[43m,\u001b[49m\u001b[43m \u001b[49m\u001b[33;43m\"\u001b[39;49m\u001b[33;43mapplications/eca_san_salvador/Salvador_hazard_FL_2015.hdf5\u001b[39;49m\u001b[33;43m\"\u001b[39;49m\u001b[43m)\u001b[49m\n",
      "\u001b[36mCell\u001b[39m\u001b[36m \u001b[39m\u001b[32mIn[3]\u001b[39m\u001b[32m, line 8\u001b[39m, in \u001b[36mconvert_mat_to_hdf5\u001b[39m\u001b[34m(mat_file, hdf5_file)\u001b[39m\n\u001b[32m      7\u001b[39m \u001b[38;5;28;01mdef\u001b[39;00m\u001b[38;5;250m \u001b[39m\u001b[34mconvert_mat_to_hdf5\u001b[39m(mat_file, hdf5_file):\n\u001b[32m----> \u001b[39m\u001b[32m8\u001b[39m     \u001b[38;5;28;01mwith\u001b[39;00m \u001b[43mh5py\u001b[49m\u001b[43m.\u001b[49m\u001b[43mFile\u001b[49m\u001b[43m(\u001b[49m\u001b[43mmat_file\u001b[49m\u001b[43m,\u001b[49m\u001b[43m \u001b[49m\u001b[33;43m'\u001b[39;49m\u001b[33;43mr\u001b[39;49m\u001b[33;43m'\u001b[39;49m\u001b[43m)\u001b[49m \u001b[38;5;28;01mas\u001b[39;00m f:\n\u001b[32m      9\u001b[39m \n\u001b[32m     10\u001b[39m         \u001b[38;5;66;03m#define the vars_oblig [units, \"units\",\"centroids\", \"event_id\", \"frequency\", \"intensity\", \"fraction\", } based on the Hazard class in climada\u001b[39;00m\n\u001b[32m     11\u001b[39m \n\u001b[32m     12\u001b[39m         \u001b[38;5;66;03m#extract units \u001b[39;00m\n\u001b[32m     13\u001b[39m         unit_value = f[\u001b[33m'\u001b[39m\u001b[33mhazard/units\u001b[39m\u001b[33m'\u001b[39m][()]\n\u001b[32m     14\u001b[39m         units = \u001b[38;5;28mchr\u001b[39m(\u001b[38;5;28mint\u001b[39m(unit_value.item()))\n",
      "\u001b[36mFile \u001b[39m\u001b[32m~/Software/anaconda3/envs/climada_env_6/lib/python3.11/site-packages/h5py/_hl/files.py:561\u001b[39m, in \u001b[36mFile.__init__\u001b[39m\u001b[34m(self, name, mode, driver, libver, userblock_size, swmr, rdcc_nslots, rdcc_nbytes, rdcc_w0, track_order, fs_strategy, fs_persist, fs_threshold, fs_page_size, page_buf_size, min_meta_keep, min_raw_keep, locking, alignment_threshold, alignment_interval, meta_block_size, **kwds)\u001b[39m\n\u001b[32m    552\u001b[39m     fapl = make_fapl(driver, libver, rdcc_nslots, rdcc_nbytes, rdcc_w0,\n\u001b[32m    553\u001b[39m                      locking, page_buf_size, min_meta_keep, min_raw_keep,\n\u001b[32m    554\u001b[39m                      alignment_threshold=alignment_threshold,\n\u001b[32m    555\u001b[39m                      alignment_interval=alignment_interval,\n\u001b[32m    556\u001b[39m                      meta_block_size=meta_block_size,\n\u001b[32m    557\u001b[39m                      **kwds)\n\u001b[32m    558\u001b[39m     fcpl = make_fcpl(track_order=track_order, fs_strategy=fs_strategy,\n\u001b[32m    559\u001b[39m                      fs_persist=fs_persist, fs_threshold=fs_threshold,\n\u001b[32m    560\u001b[39m                      fs_page_size=fs_page_size)\n\u001b[32m--> \u001b[39m\u001b[32m561\u001b[39m     fid = \u001b[43mmake_fid\u001b[49m\u001b[43m(\u001b[49m\u001b[43mname\u001b[49m\u001b[43m,\u001b[49m\u001b[43m \u001b[49m\u001b[43mmode\u001b[49m\u001b[43m,\u001b[49m\u001b[43m \u001b[49m\u001b[43muserblock_size\u001b[49m\u001b[43m,\u001b[49m\u001b[43m \u001b[49m\u001b[43mfapl\u001b[49m\u001b[43m,\u001b[49m\u001b[43m \u001b[49m\u001b[43mfcpl\u001b[49m\u001b[43m,\u001b[49m\u001b[43m \u001b[49m\u001b[43mswmr\u001b[49m\u001b[43m=\u001b[49m\u001b[43mswmr\u001b[49m\u001b[43m)\u001b[49m\n\u001b[32m    563\u001b[39m \u001b[38;5;28;01mif\u001b[39;00m \u001b[38;5;28misinstance\u001b[39m(libver, \u001b[38;5;28mtuple\u001b[39m):\n\u001b[32m    564\u001b[39m     \u001b[38;5;28mself\u001b[39m._libver = libver\n",
      "\u001b[36mFile \u001b[39m\u001b[32m~/Software/anaconda3/envs/climada_env_6/lib/python3.11/site-packages/h5py/_hl/files.py:235\u001b[39m, in \u001b[36mmake_fid\u001b[39m\u001b[34m(name, mode, userblock_size, fapl, fcpl, swmr)\u001b[39m\n\u001b[32m    233\u001b[39m     \u001b[38;5;28;01mif\u001b[39;00m swmr \u001b[38;5;129;01mand\u001b[39;00m swmr_support:\n\u001b[32m    234\u001b[39m         flags |= h5f.ACC_SWMR_READ\n\u001b[32m--> \u001b[39m\u001b[32m235\u001b[39m     fid = \u001b[43mh5f\u001b[49m\u001b[43m.\u001b[49m\u001b[43mopen\u001b[49m\u001b[43m(\u001b[49m\u001b[43mname\u001b[49m\u001b[43m,\u001b[49m\u001b[43m \u001b[49m\u001b[43mflags\u001b[49m\u001b[43m,\u001b[49m\u001b[43m \u001b[49m\u001b[43mfapl\u001b[49m\u001b[43m=\u001b[49m\u001b[43mfapl\u001b[49m\u001b[43m)\u001b[49m\n\u001b[32m    236\u001b[39m \u001b[38;5;28;01melif\u001b[39;00m mode == \u001b[33m'\u001b[39m\u001b[33mr+\u001b[39m\u001b[33m'\u001b[39m:\n\u001b[32m    237\u001b[39m     fid = h5f.open(name, h5f.ACC_RDWR, fapl=fapl)\n",
      "\u001b[36mFile \u001b[39m\u001b[32mh5py/_objects.pyx:54\u001b[39m, in \u001b[36mh5py._objects.with_phil.wrapper\u001b[39m\u001b[34m()\u001b[39m\n",
      "\u001b[36mFile \u001b[39m\u001b[32mh5py/_objects.pyx:55\u001b[39m, in \u001b[36mh5py._objects.with_phil.wrapper\u001b[39m\u001b[34m()\u001b[39m\n",
      "\u001b[36mFile \u001b[39m\u001b[32mh5py/h5f.pyx:102\u001b[39m, in \u001b[36mh5py.h5f.open\u001b[39m\u001b[34m()\u001b[39m\n",
      "\u001b[31mFileNotFoundError\u001b[39m: [Errno 2] Unable to synchronously open file (unable to open file: name = 'applications/eca_san_salvador/Salvador_hazard_FL_2015.mat', errno = 2, error message = 'No such file or directory', flags = 0, o_flags = 0)"
     ]
    }
   ],
   "source": [
    "convert_mat_to_hdf5(\"Salvador_hazard_FL_2015.mat\", \"applications/eca_san_salvador/Salvador_hazard_FL_2015.hdf5\")"
   ]
  },
  {
   "cell_type": "code",
   "execution_count": 45,
   "id": "98d43f2f-e4a6-4635-92fb-79f5315f9cbc",
   "metadata": {},
   "outputs": [
    {
     "name": "stdout",
     "output_type": "stream",
     "text": [
      "2025-07-06 16:43:18,617 - climada.hazard.io - INFO - Writing Salvador_hazard_FL_2040_extreme_cc_.hdf5\n",
      "2025-07-06 16:43:18,621 - climada.hazard.centroids.centr - INFO - Writing Salvador_hazard_FL_2040_extreme_cc_.hdf5\n",
      "2025-07-06 16:43:19,267 - climada.hazard.io - INFO - Writing Salvador_hazard_FL_2040_extreme_cc_.hdf5\n",
      "2025-07-06 16:43:19,271 - climada.hazard.centroids.centr - INFO - Writing Salvador_hazard_FL_2040_extreme_cc_.hdf5\n",
      "2025-07-06 16:43:19,918 - climada.hazard.io - INFO - Writing Salvador_hazard_FL_2040_extreme_cc_.hdf5\n",
      "2025-07-06 16:43:19,922 - climada.hazard.centroids.centr - INFO - Writing Salvador_hazard_FL_2040_extreme_cc_.hdf5\n",
      "2025-07-06 16:43:20,565 - climada.hazard.io - INFO - Writing Salvador_hazard_FL_2040_extreme_cc_.hdf5\n",
      "2025-07-06 16:43:20,569 - climada.hazard.centroids.centr - INFO - Writing Salvador_hazard_FL_2040_extreme_cc_.hdf5\n",
      "2025-07-06 16:43:21,212 - climada.hazard.io - INFO - Writing Salvador_hazard_FL_2040_extreme_cc_.hdf5\n",
      "2025-07-06 16:43:21,216 - climada.hazard.centroids.centr - INFO - Writing Salvador_hazard_FL_2040_extreme_cc_.hdf5\n",
      "2025-07-06 16:43:21,878 - climada.hazard.io - INFO - Writing Salvador_hazard_FL_2040_extreme_cc_.hdf5\n",
      "2025-07-06 16:43:21,883 - climada.hazard.centroids.centr - INFO - Writing Salvador_hazard_FL_2040_extreme_cc_.hdf5\n"
     ]
    }
   ],
   "source": [
    "convert_mat_to_hdf5(\"Salvador_hazard_FL_2040_extreme_cc.mat\", \"Salvador_hazard_FL_2040_extreme_cc.hdf5\")"
   ]
  },
  {
   "cell_type": "code",
   "execution_count": null,
   "id": "f8c0746a-cc28-48f9-b77f-77e663e463f9",
   "metadata": {},
   "outputs": [],
   "source": []
  }
 ],
 "metadata": {
  "kernelspec": {
   "display_name": "Python 3 (ipykernel)",
   "language": "python",
   "name": "python3"
  },
  "language_info": {
   "codemirror_mode": {
    "name": "ipython",
    "version": 3
   },
   "file_extension": ".py",
   "mimetype": "text/x-python",
   "name": "python",
   "nbconvert_exporter": "python",
   "pygments_lexer": "ipython3",
   "version": "3.11.11"
  }
 },
 "nbformat": 4,
 "nbformat_minor": 5
}
